{
 "cells": [
  {
   "cell_type": "code",
   "execution_count": 1,
   "id": "dental-michigan",
   "metadata": {},
   "outputs": [],
   "source": [
    "# library preparations\n",
    "import scipy.io\n",
    "import pandas as pd\n",
    "import numpy as np\n",
    "import matplotlib.pyplot as plt\n",
    "import sklearn\n",
    "import joblib\n",
    "import seaborn as sns\n",
    "import time\n",
    "import pickle\n",
    "\n",
    "from sklearn.model_selection import train_test_split\n",
    "from sklearn.model_selection import cross_validate\n",
    "from sklearn.model_selection import GridSearchCV\n",
    "from sklearn.model_selection import cross_val_predict\n",
    "\n",
    "from sklearn.metrics import confusion_matrix\n",
    "from sklearn.metrics import classification_report\n",
    "from sklearn.metrics import accuracy_score\n",
    "from sklearn.metrics import roc_curve\n",
    "from sklearn.metrics import roc_auc_score\n",
    "\n",
    "from sklearn.preprocessing import StandardScaler\n",
    "\n",
    "from sklearn.decomposition import PCA\n",
    "\n",
    "from sklearn.pipeline import Pipeline"
   ]
  },
  {
   "cell_type": "code",
   "execution_count": 2,
   "id": "analyzed-ending",
   "metadata": {},
   "outputs": [
    {
     "name": "stdout",
     "output_type": "stream",
     "text": [
      "Before flattening:\n",
      "(6500, 460, 12)\n",
      "(6500, 1)\n",
      "(6499, 460, 12)\n",
      "(6499, 1)\n",
      "After flattening:\n",
      "(6500, 5520)\n",
      "(6500,)\n",
      "(6499, 5520)\n",
      "(6499,)\n"
     ]
    }
   ],
   "source": [
    "load_train = np.load('./data/train.npz', allow_pickle=True)\n",
    "load_test = np.load('./data/test_large.npz', allow_pickle=True)\n",
    "X_train, y_train = load_train['X_train'], load_train['y_train']\n",
    "X_test, y_test = load_test['X_test_large'], load_test['y_test_large']\n",
    "\n",
    "samples, rows, cols = X_train.shape\n",
    "print(\"Before flattening:\")\n",
    "print(X_train.shape)\n",
    "print(y_train.shape)\n",
    "print(X_test.shape)\n",
    "print(y_test.shape)\n",
    "\n",
    "y_train = y_train.reshape(y_train.shape[0], )\n",
    "y_test = y_test.reshape(y_test.shape[0], )\n",
    "X_train = X_train.reshape(X_train.shape[0], -1)\n",
    "X_test = X_test.reshape(X_test.shape[0], -1)\n",
    "\n",
    "print(\"After flattening:\")\n",
    "print(X_train.shape)\n",
    "print(y_train.shape)\n",
    "print(X_test.shape)\n",
    "print(y_test.shape)"
   ]
  },
  {
   "cell_type": "code",
   "execution_count": 7,
   "id": "inner-assets",
   "metadata": {},
   "outputs": [
    {
     "name": "stdout",
     "output_type": "stream",
     "text": [
      "Test set Accuracy is:  0.4942298815202339\n"
     ]
    }
   ],
   "source": [
    "from sklearn.svm import SVC\n",
    "\n",
    "pipe = Pipeline([\n",
    "    ('scaler', StandardScaler()), \n",
    "    ('svm', SVC())\n",
    "])\n",
    "\n",
    "param_grid = {\n",
    "    'svm__kernel': ['linear', 'rbf', 'poly'],\n",
    "    # 'svm__C': np.arange(1, 2, 0.1),\n",
    "    # 'svm__degree': list(range(3, 5))\n",
    "}\n",
    "\n",
    "# ~30 min run time\n",
    "clf = GridSearchCV(pipe, param_grid, scoring=\"accuracy\", cv=5, n_jobs=2)\n",
    "clf.fit(X_train, y_train)\n",
    "\n",
    "pred = clf.predict(X_test)\n",
    "print('Test set Accuracy is: ', accuracy_score(y_test, pred))"
   ]
  },
  {
   "cell_type": "code",
   "execution_count": 8,
   "id": "numerical-wiring",
   "metadata": {},
   "outputs": [
    {
     "name": "stdout",
     "output_type": "stream",
     "text": [
      "Test set Accuracy is:  0.4940760116941068\n"
     ]
    }
   ],
   "source": [
    "from sklearn.neural_network import MLPClassifier\n",
    "\n",
    "pipe = Pipeline([\n",
    "    ('scaler', StandardScaler()), \n",
    "    ('mlp', MLPClassifier())\n",
    "])\n",
    "\n",
    "param_grid = {\n",
    "    # 'mlp__hidden_layer_sizes': [(i, ) for i in range(30, 60, 10)],\n",
    "    'mlp__activation': ['logistic', 'tanh', 'relu']\n",
    "}\n",
    "\n",
    "clf = GridSearchCV(pipe, param_grid, scoring=\"accuracy\", cv=5, n_jobs=4)\n",
    "clf.fit(X_train, y_train)\n",
    "\n",
    "pred = clf.predict(X_test)\n",
    "print('Test set Accuracy is: ', accuracy_score(y_test, pred))"
   ]
  }
 ],
 "metadata": {
  "kernelspec": {
   "display_name": "Python 3",
   "language": "python",
   "name": "python3"
  },
  "language_info": {
   "codemirror_mode": {
    "name": "ipython",
    "version": 3
   },
   "file_extension": ".py",
   "mimetype": "text/x-python",
   "name": "python",
   "nbconvert_exporter": "python",
   "pygments_lexer": "ipython3",
   "version": "3.8.5"
  }
 },
 "nbformat": 4,
 "nbformat_minor": 5
}
