{
 "cells": [
  {
   "cell_type": "code",
   "execution_count": 1,
   "metadata": {},
   "outputs": [],
   "source": [
    "import scipy.io\n",
    "import pandas as pd\n",
    "import numpy as np\n",
    "import matplotlib.pyplot as plt\n",
    "import sklearn"
   ]
  },
  {
   "cell_type": "code",
   "execution_count": 2,
   "metadata": {},
   "outputs": [
    {
     "name": "stdout",
     "output_type": "stream",
     "text": [
      "(1000, 1)\n",
      "[[0.16563437 0.40551165 0.2100825 ]\n",
      " [0.18320036 0.38024454 0.16238518]\n",
      " [0.18356426 0.32471156 0.18220289]\n",
      " [0.11852433 0.37614929 0.21584377]]\n",
      "[[0.16563437 0.40551165 0.2100825 ]\n",
      " [0.18320036 0.38024454 0.16238518]\n",
      " [0.18356426 0.32471156 0.18220289]\n",
      " [0.11852433 0.37614929 0.21584377]]\n"
     ]
    }
   ],
   "source": [
    "import pandas as pd\n",
    "\n",
    "# read in label class data\n",
    "y = pd.read_csv(\"./output/label.csv\")\n",
    "y = y.sort_values(by = \"indices\").drop(\"indices\", axis=1).to_numpy()\n",
    "print(y.shape)\n",
    "\n",
    "# read in individual sample data and store in numpy nd array\n",
    "samples = 1000\n",
    "take = 251 # row 1 to row 251 (exclusive), 250 rows\n",
    "X = pd.read_table(\"./output/output1\").iloc[1:take].drop(\"SAS\", axis=1).to_numpy()\n",
    "print(X[1:5, ])\n",
    "\n",
    "for i in range(2, samples+1):\n",
    "    filename = \"./output/output\" + str(i)\n",
    "    # drop the first row (all NaNs) and drop the SAS column\n",
    "    sample = pd.read_table(filename).iloc[1:take].drop(\"SAS\", axis=1).to_numpy()\n",
    "    X = np.concatenate((X, sample), axis=0)\n",
    "    # print(first.shape)\n",
    "# samples, rows, columns\n",
    "X = X.reshape(samples, take-1, 3)\n",
    "\n",
    "print(X[0,1:5,]) # should output the same as above, make sure re-shape did nothing weird"
   ]
  },
  {
   "cell_type": "code",
   "execution_count": 3,
   "metadata": {},
   "outputs": [
    {
     "name": "stdout",
     "output_type": "stream",
     "text": [
      "(1000,)\n",
      "(1000, 750)\n",
      "(800, 750)\n",
      "(200, 750)\n",
      "(800,)\n",
      "(200,)\n"
     ]
    }
   ],
   "source": [
    "# flatten the data to suit the algorithm need\n",
    "y = y.reshape(y.shape[0], )\n",
    "X = X.reshape(samples, -1)\n",
    "\n",
    "print(y.shape)\n",
    "print(X.shape)\n",
    "\n",
    "## train and test split \n",
    "from sklearn.model_selection import train_test_split\n",
    "# set random_state (analogous to set.seed) if needed\n",
    "X_train, X_test, y_train, y_test = train_test_split(X, y, test_size=0.2, random_state = 42)\n",
    "print(X_train.shape)\n",
    "print(X_test.shape)\n",
    "print(y_train.shape)\n",
    "print(y_test.shape)"
   ]
  },
  {
   "cell_type": "code",
   "execution_count": 4,
   "metadata": {},
   "outputs": [
    {
     "name": "stdout",
     "output_type": "stream",
     "text": [
      "Precision:  1.0\n",
      "Recall:  0.15294215931986832\n",
      "F1 scores:  0.25667395257111236\n",
      "Accuracy:  0.825\n"
     ]
    }
   ],
   "source": [
    "# Prepare for K fold cross validation\n",
    "from sklearn.model_selection import KFold\n",
    "from sklearn.metrics import accuracy_score, f1_score, precision_score, recall_score\n",
    "from sklearn.ensemble import RandomForestClassifier\n",
    "\n",
    "# Ideally want both high precision and high recall\n",
    "# Precision: label pos + truth pos / labeled as positive\n",
    "# Recall (sensitivity): label pos + truth pos / truth pos\n",
    "# fl-score: harmonic mean of the precision and recall\n",
    "\n",
    "k = 10\n",
    "kf = KFold(n_splits=k, random_state = 42, shuffle=True)\n",
    "fl_scores = []\n",
    "accuracy = []\n",
    "precision = []\n",
    "recall = []\n",
    "for train_index, test_index in kf.split(X_train):\n",
    "    # identify the train and test set within each fold\n",
    "    X_fold_train, X_fold_test = X_train[train_index], X_train[test_index]\n",
    "    y_fold_train, y_fold_test = y_train[train_index], y_train[test_index]\n",
    "    \n",
    "    # fit the model on the training set\n",
    "    model = RandomForestClassifier(n_estimators = 500)\n",
    "    model.fit(X_fold_train, y_fold_train)\n",
    "    \n",
    "    # predict label on validation test set, record results\n",
    "    y_pred = model.predict(X_fold_test)\n",
    "    precision.append(precision_score(y_fold_test, y_pred, pos_label=\"Yes\"))\n",
    "    recall.append(recall_score(y_fold_test, y_pred, pos_label=\"Yes\"))\n",
    "    fl_scores.append(f1_score(y_fold_test, y_pred, pos_label=\"Yes\"))\n",
    "    accuracy.append(accuracy_score(y_fold_test, y_pred))\n",
    "\n",
    "print(\"Precision: \", np.mean(precision))\n",
    "print(\"Recall: \", np.mean(recall))\n",
    "print(\"F1 scores: \", np.mean(fl_scores))\n",
    "print(\"Accuracy: \", np.mean(accuracy))"
   ]
  },
  {
   "cell_type": "code",
   "execution_count": 5,
   "metadata": {},
   "outputs": [
    {
     "name": "stdout",
     "output_type": "stream",
     "text": [
      "Accuracy on Test Set: 0.855\n",
      "Our OOB prediction of accuracy is: 82.375%\n",
      "Feature pi_x importance: 0.015667908792259627\n",
      "Feature pi_y importance: 0.012193161101249489\n",
      "Feature F_st importance: 0.017182325933061234\n"
     ]
    }
   ],
   "source": [
    "# https://scikit-learn.org/stable/modules/generated/sklearn.ensemble.RandomForestClassifier.html\n",
    "# n_estimators = number of trees to bag\n",
    "# clf = RandomForestClassifier(n_estimators=100, *, criterion='gini', max_depth=None, \n",
    "#                        min_samples_split=2, min_samples_leaf=1, min_weight_fraction_leaf=0.0, \n",
    "#                        max_features='auto', max_leaf_nodes=None, min_impurity_decrease=0.0, \n",
    "#                        min_impurity_split=None, bootstrap=True, oob_score=False, n_jobs=None, \n",
    "#                        random_state=None, verbose=0, warm_start=False, class_weight=None, \n",
    "#                        ccp_alpha=0.0, max_samples=None)\n",
    "\n",
    "model = RandomForestClassifier(n_estimators = 500, oob_score=True)\n",
    "model.fit(X_train, y_train)\n",
    "y_pred = model.predict(X_test)\n",
    "print(\"Accuracy on Test Set:\", accuracy_score(y_test,y_pred))\n",
    "print('Our OOB prediction of accuracy is: {oob}%'.format(oob=model.oob_score_ * 100))\n",
    "\n",
    "features = [\"pi_x\", \"pi_y\", \"F_st\"]\n",
    "for f, imp in zip(features, model.feature_importances_):\n",
    "    print('Feature {f} importance: {imp}'.format(f=f, imp=imp))\n",
    "    \n",
    "# pred_prob = model.predict_proba(X_test)\n",
    "# print(pred_prob)"
   ]
  },
  {
   "cell_type": "code",
   "execution_count": 6,
   "metadata": {},
   "outputs": [
    {
     "name": "stdout",
     "output_type": "stream",
     "text": [
      "predict   No  Yes  All\n",
      "truth                 \n",
      "No       165    0  165\n",
      "Yes       29    6   35\n",
      "All      194    6  200\n"
     ]
    }
   ],
   "source": [
    "# Confusion Matrix for test set\n",
    "df = pd.DataFrame()\n",
    "df['truth'] = y_test\n",
    "df['predict'] = y_pred\n",
    "\n",
    "# Cross-tabulate predictions\n",
    "print(pd.crosstab(df['truth'], df['predict'], margins=True))"
   ]
  },
  {
   "cell_type": "code",
   "execution_count": 7,
   "metadata": {},
   "outputs": [
    {
     "data": {
      "image/png": "[encoded data removed]",
      "text/plain": [
       "<Figure size 432x288 with 1 Axes>"
      ]
     },
     "metadata": {
      "needs_background": "light"
     },
     "output_type": "display_data"
    },
    {
     "data": {
      "image/png": "[encoded data removed]",
      "text/plain": [
       "<Figure size 432x288 with 1 Axes>"
      ]
     },
     "metadata": {
      "needs_background": "light"
     },
     "output_type": "display_data"
    }
   ],
   "source": [
    "from sklearn.metrics import precision_recall_curve\n",
    "\n",
    "# precision recall curve for training set \n",
    "y_prob = model.predict_proba(X_test)[:,1]\n",
    "precisions, recalls, thresholds = precision_recall_curve(y_test, y_prob, pos_label = \"Yes\")\n",
    "\n",
    "def plot_precision_recall_vs_threshold(precisions, recalls, thresholds):\n",
    "    plt.plot(thresholds, precisions[:-1], \"b--\", label=\"Precision\")\n",
    "    plt.plot(thresholds, recalls[:-1], \"g-\", label=\"Recall\")\n",
    "    plt.xlabel(\"Threshold\")\n",
    "    plt.legend(loc=\"upper left\")\n",
    "    plt.ylim([0, 1])\n",
    "\n",
    "plot_precision_recall_vs_threshold(precisions, recalls, thresholds)\n",
    "plt.show()\n",
    "\n",
    "plt.plot(precisions, recalls, \"b--\", label=\"Precision\")\n",
    "plt.xlabel(\"Precision\")\n",
    "plt.ylabel(\"Recall\")\n",
    "plt.legend(loc=\"upper left\")\n",
    "plt.show()"
   ]
  },
  {
   "cell_type": "code",
   "execution_count": 8,
   "metadata": {},
   "outputs": [
    {
     "data": {
      "image/png": "[encoded data removed]",
      "text/plain": [
       "<Figure size 432x288 with 1 Axes>"
      ]
     },
     "metadata": {
      "needs_background": "light"
     },
     "output_type": "display_data"
    },
    {
     "name": "stdout",
     "output_type": "stream",
     "text": [
      "The AUC is  0.8651082251082252\n"
     ]
    }
   ],
   "source": [
    "# ROC Curve\n",
    "# ROC is Receiver operating characteristic\n",
    "# Sensitivity = Recall = True Positive Rate\n",
    "# Specificity = True Negative Rate\n",
    "# False Positive Rate = 1 — Specificity\n",
    "# The more the area under the curve the better our classifier\n",
    "from sklearn.metrics import roc_curve\n",
    "fpr, tpr, thresholds = roc_curve(y_test, y_prob, pos_label = \"Yes\")\n",
    "# fpr = false positive rate = (1 - true negative rate)\n",
    "# tpr = true positive rate\n",
    "def plot_roc_curve(fpr, tpr, label=None):\n",
    "    plt.plot(fpr, tpr, linewidth=2, label=label)\n",
    "    plt.plot([0, 1], [0, 1], 'k--')\n",
    "    plt.axis([0, 1, 0, 1])\n",
    "    plt.xlabel('False Positive Rate')\n",
    "    plt.ylabel('True Positive Rate')\n",
    "\n",
    "plot_roc_curve(fpr, tpr, \"Random Forest\")\n",
    "plt.show()\n",
    "\n",
    "from sklearn.metrics import roc_auc_score\n",
    "print(\"The AUC is \", roc_auc_score(y_test, y_prob))"
   ]
  },
  {
   "cell_type": "markdown",
   "metadata": {},
   "source": [
    "Next steps:\n",
    "\n",
    "Generating a diversity of inputs:\n",
    "\n",
    "* 0.5 vs 0.5 allele frequency that produce similar patterns to SAS but is not SAS\n",
    "\n",
    "Transfer of knowledge:\n",
    "\n",
    "* Use existing model to predict on 0.5 vs 0.5 cases, see what prediction results we obtain\n",
    "\n",
    "Error Analysis:\n",
    "   \n",
    "* Which ones are wrong? How to mitigate mistakes? Distribution of input dataset effect?\n",
    "* Various metrics...\n",
    "\n",
    "Remaining issues:\n",
    "\n",
    "1. How to generate a diverse, well-rounded dataset covering all scenarios possible\n",
    "    + Trouble: 400 windows not all valid: nan generated during Rscript\n",
    "2. Fine tuning the model to archieve better results...\n",
    "    + candidate statistics? approach?\n",
    "3. Generating a LOT more samples on TACC, resources?\n",
    "    + currently using 1000 samples, could use much more\n",
    "    + current run time < 3 min on home desktop\n",
    "4. Weekly report process\n",
    "    + Gitlab, Github?\n",
    "    + Html?"
   ]
  }
 ],
 "metadata": {
  "kernelspec": {
   "display_name": "Python 3",
   "language": "python",
   "name": "python3"
  },
  "language_info": {
   "codemirror_mode": {
    "name": "ipython",
    "version": 3
   },
   "file_extension": ".py",
   "mimetype": "text/x-python",
   "name": "python",
   "nbconvert_exporter": "python",
   "pygments_lexer": "ipython3",
   "version": "3.8.5"
  }
 },
 "nbformat": 4,
 "nbformat_minor": 4
}
